{
 "cells": [
  {
   "cell_type": "code",
   "execution_count": 5,
   "id": "d622636b",
   "metadata": {},
   "outputs": [
    {
     "name": "stdout",
     "output_type": "stream",
     "text": [
      "this is sync\n"
     ]
    }
   ],
   "source": [
    "print(\"this is sync\")"
   ]
  },
  {
   "cell_type": "code",
   "execution_count": 6,
   "id": "4a7fb244-1ef1-4d69-b9fc-397a5bb8d575",
   "metadata": {},
   "outputs": [
    {
     "name": "stdout",
     "output_type": "stream",
     "text": [
      "hello vs code and Pycharm from jupyter\n"
     ]
    }
   ],
   "source": [
    "print(\"hello vs code and Pycharm from jupyter\")"
   ]
  },
  {
   "cell_type": "code",
   "execution_count": 7,
   "id": "3cca9a44-39b9-46e4-af27-d2b77cf37690",
   "metadata": {
    "ExecuteTime": {
     "end_time": "2025-07-31T07:43:54.934336Z",
     "start_time": "2025-07-31T07:43:54.931394Z"
    }
   },
   "outputs": [
    {
     "name": "stdout",
     "output_type": "stream",
     "text": [
      "hello jupyter and vs code from pycharm\n"
     ]
    }
   ],
   "source": [
    "print(\"hello jupyter and vs code from pycharm\")"
   ]
  },
  {
   "cell_type": "code",
   "execution_count": 8,
   "id": "c0017365",
   "metadata": {},
   "outputs": [
    {
     "name": "stdout",
     "output_type": "stream",
     "text": [
      "hello jupyter and pycharm from vs code\n"
     ]
    }
   ],
   "source": [
    "print(\"hello jupyter and pycharm from vs code\")"
   ]
  },
  {
   "cell_type": "code",
   "execution_count": 7,
   "id": "514b7f49",
   "metadata": {
    "ExecuteTime": {
     "end_time": "2025-07-31T08:40:57.232288Z",
     "start_time": "2025-07-31T08:40:57.229172Z"
    }
   },
   "outputs": [
    {
     "name": "stdout",
     "output_type": "stream",
     "text": [
      "server is running? from vscode\n"
     ]
    }
   ],
   "source": [
    "print(\"server is running? from vscode\")"
   ]
  },
  {
   "cell_type": "code",
   "execution_count": 2,
   "id": "a2e730bfad44fbeb",
   "metadata": {
    "ExecuteTime": {
     "end_time": "2025-07-31T08:02:36.765116Z",
     "start_time": "2025-07-31T08:02:36.761180Z"
    }
   },
   "outputs": [
    {
     "name": "stdout",
     "output_type": "stream",
     "text": [
      "server is running? from pycharm\n"
     ]
    }
   ],
   "source": [
    "print(\"server is running? from pycharm\")"
   ]
  },
  {
   "cell_type": "code",
   "execution_count": 3,
   "id": "f919fd6e-06fc-4054-be34-29e73d93356a",
   "metadata": {},
   "outputs": [
    {
     "name": "stdout",
     "output_type": "stream",
     "text": [
      "server is runing? from jupyter\n"
     ]
    }
   ],
   "source": [
    "print(\"server is runing? from jupyter\")"
   ]
  },
  {
   "cell_type": "code",
   "execution_count": null,
   "id": "da70d03e-db63-47bf-8d6a-a2da5766c700",
   "metadata": {},
   "outputs": [],
   "source": []
  }
 ],
 "metadata": {
  "kernelspec": {
   "display_name": "Python 3 (ipykernel)",
   "language": "python",
   "name": "python3"
  },
  "language_info": {
   "codemirror_mode": {
    "name": "ipython",
    "version": 3
   },
   "file_extension": ".py",
   "mimetype": "text/x-python",
   "name": "python",
   "nbconvert_exporter": "python",
   "pygments_lexer": "ipython3",
   "version": "3.13.5"
  }
 },
 "nbformat": 4,
 "nbformat_minor": 5
}
