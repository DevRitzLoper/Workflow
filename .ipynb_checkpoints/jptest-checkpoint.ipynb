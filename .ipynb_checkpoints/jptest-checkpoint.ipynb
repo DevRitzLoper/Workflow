{
 "cells": [
  {
   "cell_type": "markdown",
   "id": "7add25e5",
   "metadata": {},
   "source": [
    "# TEST"
   ]
  },
  {
   "cell_type": "code",
   "execution_count": 1,
   "id": "4ad48628",
   "metadata": {},
   "outputs": [
    {
     "name": "stdout",
     "output_type": "stream",
     "text": [
      "Hello, World!\n"
     ]
    }
   ],
   "source": [
    "print(\"Hello, World!\")"
   ]
  },
  {
   "cell_type": "code",
   "execution_count": 1,
   "id": "14f926c3",
   "metadata": {},
   "outputs": [
    {
     "name": "stdout",
     "output_type": "stream",
     "text": [
      "This is a simple Python script.\n"
     ]
    }
   ],
   "source": [
    "print(\"This is a simple Python script.\")"
   ]
  },
  {
   "cell_type": "code",
   "execution_count": 1,
   "id": "ad724919",
   "metadata": {},
   "outputs": [
    {
     "name": "stdout",
     "output_type": "stream",
     "text": [
      "JAI SHREE GANESH\n"
     ]
    }
   ],
   "source": [
    "print(\"JAI SHREE GANESH\")"
   ]
  }
 ],
 "metadata": {
  "kernelspec": {
   "display_name": "Python 3 (ipykernel)",
   "language": "python",
   "name": "python3"
  },
  "language_info": {
   "codemirror_mode": {
    "name": "ipython",
    "version": 3
   },
   "file_extension": ".py",
   "mimetype": "text/x-python",
   "name": "python",
   "nbconvert_exporter": "python",
   "pygments_lexer": "ipython3",
   "version": "3.13.5"
  }
 },
 "nbformat": 4,
 "nbformat_minor": 5
}
