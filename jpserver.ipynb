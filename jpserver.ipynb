{
  "cells": [
    {
      "cell_type": "markdown",
      "metadata": {
        "id": "view-in-github",
        "colab_type": "text"
      },
      "source": [
        "<a href=\"https://colab.research.google.com/github/DevRitzLoper/Workflow/blob/main/jpserver.ipynb\" target=\"_parent\"><img src=\"https://colab.research.google.com/assets/colab-badge.svg\" alt=\"Open In Colab\"/></a>"
      ]
    },
    {
      "cell_type": "code",
      "execution_count": null,
      "id": "d622636b",
      "metadata": {
        "id": "d622636b",
        "outputId": "92324442-0688-4eb7-f5c4-6b20ff1debfd"
      },
      "outputs": [
        {
          "name": "stdout",
          "output_type": "stream",
          "text": [
            "this is sync\n"
          ]
        }
      ],
      "source": [
        "print(\"this is sync\")"
      ]
    },
    {
      "cell_type": "code",
      "execution_count": null,
      "id": "4a7fb244-1ef1-4d69-b9fc-397a5bb8d575",
      "metadata": {
        "id": "4a7fb244-1ef1-4d69-b9fc-397a5bb8d575",
        "outputId": "6924508b-06f0-48fa-9017-e95f09acb0d1"
      },
      "outputs": [
        {
          "name": "stdout",
          "output_type": "stream",
          "text": [
            "hello vs code and Pycharm from jupyter\n"
          ]
        }
      ],
      "source": [
        "print(\"hello vs code and Pycharm from jupyter\")"
      ]
    },
    {
      "cell_type": "code",
      "execution_count": null,
      "id": "3cca9a44-39b9-46e4-af27-d2b77cf37690",
      "metadata": {
        "ExecuteTime": {
          "end_time": "2025-07-31T07:43:54.934336Z",
          "start_time": "2025-07-31T07:43:54.931394Z"
        },
        "id": "3cca9a44-39b9-46e4-af27-d2b77cf37690",
        "outputId": "36fb8544-8cce-4df7-9df2-bdf82837be93"
      },
      "outputs": [
        {
          "name": "stdout",
          "output_type": "stream",
          "text": [
            "hello jupyter and vs code from pycharm\n"
          ]
        }
      ],
      "source": [
        "print(\"hello jupyter and vs code from pycharm\")"
      ]
    },
    {
      "cell_type": "code",
      "execution_count": null,
      "id": "c0017365",
      "metadata": {
        "id": "c0017365",
        "outputId": "b4d3e07d-35ee-425d-8c54-7958372f6d20"
      },
      "outputs": [
        {
          "name": "stdout",
          "output_type": "stream",
          "text": [
            "hello jupyter and pycharm from vs code\n"
          ]
        }
      ],
      "source": [
        "print(\"hello jupyter and pycharm from vs code\")"
      ]
    },
    {
      "cell_type": "code",
      "execution_count": null,
      "id": "514b7f49",
      "metadata": {
        "id": "514b7f49",
        "outputId": "c59422e1-061c-42fc-9115-34e3c9af124d"
      },
      "outputs": [
        {
          "name": "stdout",
          "output_type": "stream",
          "text": [
            "server is running? from vscode\n"
          ]
        }
      ],
      "source": [
        "print(\"server is running? from vscode\")"
      ]
    },
    {
      "cell_type": "code",
      "source": [
        "print(\"hello github from colab\")"
      ],
      "metadata": {
        "colab": {
          "base_uri": "https://localhost:8080/"
        },
        "id": "JdYTX-Iz8y-w",
        "outputId": "03849bd8-b181-4254-aa72-549b8fa33155"
      },
      "id": "JdYTX-Iz8y-w",
      "execution_count": null,
      "outputs": [
        {
          "output_type": "stream",
          "name": "stdout",
          "text": [
            "hello github from colab\n"
          ]
        }
      ]
    }
  ],
  "metadata": {
    "kernelspec": {
      "display_name": "Python 3 (ipykernel)",
      "language": "python",
      "name": "python3"
    },
    "language_info": {
      "codemirror_mode": {
        "name": "ipython",
        "version": 3
      },
      "file_extension": ".py",
      "mimetype": "text/x-python",
      "name": "python",
      "nbconvert_exporter": "python",
      "pygments_lexer": "ipython3",
      "version": "3.13.5"
    },
    "colab": {
      "provenance": [],
      "include_colab_link": true
    }
  },
  "nbformat": 4,
  "nbformat_minor": 5
}